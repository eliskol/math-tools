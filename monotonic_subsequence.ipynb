{
 "cells": [
  {
   "cell_type": "code",
   "execution_count": 43,
   "metadata": {},
   "outputs": [],
   "source": [
    "import pandas as pd\n",
    "import numpy as np\n",
    "import matplotlib"
   ]
  },
  {
   "cell_type": "code",
   "execution_count": 44,
   "metadata": {},
   "outputs": [],
   "source": [
    "#define convergent sequence function of n here:\n",
    "# limit must be 0\n",
    "def a_n(n):\n",
    "    return (1 / n) * np.sin(n)"
   ]
  },
  {
   "cell_type": "code",
   "execution_count": 45,
   "metadata": {},
   "outputs": [],
   "source": [
    "def sigma(n):\n",
    "    output = 1\n",
    "    if n == 1:\n",
    "        while a_n(output) <= 0:\n",
    "            output += 1\n",
    "        return output\n",
    "    output = sigma(n - 1) + 1\n",
    "    while (not a_n(sigma(n - 1)) > a_n(output) > 0):\n",
    "        output += 1\n",
    "    return output"
   ]
  },
  {
   "cell_type": "code",
   "execution_count": null,
   "metadata": {},
   "outputs": [],
   "source": []
  },
  {
   "cell_type": "code",
   "execution_count": 46,
   "metadata": {},
   "outputs": [],
   "source": [
    "graph_value_dict = {\"x\" : [i for i in range(1, 10)], \"a_x\": [a_n(i) for i in range(1, 10)], \"sigma_x\": [sigma(i) for i in range(1, 10)], \"a_sigma_x\": [a_n(sigma(i)) for i in range(1, 10)]}\n",
    "graph_value_df = pd.DataFrame(graph_value_dict)\n",
    "plot = graph_value_df.plot(kind=\"scatter\", x=\"x\", y=\"a_x\", color=\"red\")\n",
    "graph_value_df.plot(kind=\"scatter\", x=\"sigma_x\", y=\"a_sigma_x\", ax=plot, color=\"blue\")"
   ]
  }
 ],
 "metadata": {
  "kernelspec": {
   "display_name": "Python 3",
   "language": "python",
   "name": "python3"
  },
  "language_info": {
   "codemirror_mode": {
    "name": "ipython",
    "version": 3
   },
   "file_extension": ".py",
   "mimetype": "text/x-python",
   "name": "python",
   "nbconvert_exporter": "python",
   "pygments_lexer": "ipython3",
   "version": "3.10.4"
  },
  "orig_nbformat": 4
 },
 "nbformat": 4,
 "nbformat_minor": 2
}
