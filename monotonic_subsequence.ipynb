{
 "cells": [
  {
   "cell_type": "code",
   "execution_count": 1,
   "metadata": {},
   "outputs": [],
   "source": [
    "import pandas as pd\n",
    "import numpy as np\n",
    "import matplotlib\n",
    "import time # for benchmarking"
   ]
  },
  {
   "cell_type": "code",
   "execution_count": 2,
   "metadata": {},
   "outputs": [],
   "source": [
    "#define convergent sequence function of n here:\n",
    "def a_n(n):\n",
    "    # limit must be 0, though i suppose i can generalize it by having you input the limit (you'd have to already know it)\n",
    "    return np.sin(n) # just an example"
   ]
  },
  {
   "cell_type": "code",
   "execution_count": 3,
   "metadata": {},
   "outputs": [],
   "source": [
    "def sigma(n):\n",
    "    if n == 1:\n",
    "        output = 1\n",
    "        while a_n(output) <= 0:\n",
    "            output += 1\n",
    "        return output\n",
    "    prev = sigma(n - 1)\n",
    "    output = prev + 1 # no repeating of the same index\n",
    "    while (not a_n(prev) > a_n(output) > 0):\n",
    "        output += 1\n",
    "    return output"
   ]
  },
  {
   "cell_type": "code",
   "execution_count": 4,
   "metadata": {},
   "outputs": [],
   "source": [
    "def calculate_n_sigma_values(n):\n",
    "    if n == 1:\n",
    "        value = 1\n",
    "        while a_n(value) <= 0:\n",
    "            value += 1\n",
    "        return [value]\n",
    "    arr = calculate_n_sigma_values(n - 1)\n",
    "    prev = arr[-1]\n",
    "    value = prev + 1\n",
    "    while (not a_n(prev) > a_n(value) > 0):\n",
    "        if n > 17:\n",
    "            print(value)\n",
    "        value += 1\n",
    "    arr.append(value)\n",
    "    print('sigma of', n, 'value of sin', np.sin(value))\n",
    "    return arr"
   ]
  },
  {
   "cell_type": "code",
   "execution_count": 5,
   "metadata": {},
   "outputs": [
    {
     "name": "stdout",
     "output_type": "stream",
     "text": [
      "sigma of 2 value of sin 0.1411200080598672\n",
      "sigma of 3 value of sin 0.017701925105413577\n",
      "sigma of 4 value of sin 0.017671785467370874\n",
      "sigma of 5 value of sin 0.008881452458878848\n",
      "sigma of 6 value of sin 0.008791022929352243\n",
      "sigma of 7 value of sin 6.0288706691585265e-05\n",
      "sigma of 8 value of sin 4.9273689123705576e-05\n",
      "sigma of 9 value of sin 4.115937093689572e-05\n",
      "sigma of 10 value of sin 8.114318195038078e-06\n",
      "sigma of 11 value of sin 2.900699389332111e-06\n",
      "sigma of 12 value of sin 2.3129194164527015e-06\n",
      "sigma of 13 value of sin 1.1755599457625593e-06\n",
      "sigma of 14 value of sin 1.1373594706916884e-06\n",
      "sigma of 15 value of sin 6.259804479522708e-07\n",
      "sigma of 16 value of sin 5.113790227395995e-07\n"
     ]
    }
   ],
   "source": [
    "def generate_graph_value_dict(n):\n",
    "    return {\"x\" : [i for i in range(1, n + 1)], \"a_x\": [a_n(i) for i in range(1, n + 1)], \"a_sigma_x\": [a_n(sigma_x) for sigma_x in calculate_n_sigma_values(n)]}\n",
    "\n",
    "def graph_results(graph_value_dict):\n",
    "    graph_value_df = pd.DataFrame(graph_value_dict)\n",
    "    plot = graph_value_df.plot(kind=\"scatter\", x=\"x\", y=\"a_x\", color=\"red\", figsize=(10, 10), ylim=(-1, 1))\n",
    "    graph_value_df.plot(kind=\"line\", x=\"x\", y=\"a_sigma_x\", ax=plot, color=\"blue\", figsize=(10, 10))\n",
    "\n",
    "# finds and graphs 14 terms of the initial series, and 14 terms of the monotonically decreasing subsequence\n",
    "graph_value_dict = generate_graph_value_dict(20)\n",
    "graph_results(graph_value_dict)"
   ]
  }
 ],
 "metadata": {
  "kernelspec": {
   "display_name": "Python 3",
   "language": "python",
   "name": "python3"
  },
  "language_info": {
   "codemirror_mode": {
    "name": "ipython",
    "version": 3
   },
   "file_extension": ".py",
   "mimetype": "text/x-python",
   "name": "python",
   "nbconvert_exporter": "python",
   "pygments_lexer": "ipython3",
   "version": "3.10.4"
  },
  "orig_nbformat": 4,
  "vscode": {
   "interpreter": {
    "hash": "3ad933181bd8a04b432d3370b9dc3b0662ad032c4dfaa4e4f1596c548f763858"
   }
  }
 },
 "nbformat": 4,
 "nbformat_minor": 2
}
